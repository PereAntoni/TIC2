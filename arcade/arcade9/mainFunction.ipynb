{
 "cells": [
  {
   "cell_type": "markdown",
   "metadata": {},
   "source": [
    "# PINTANT AMB FUNCIONS. Reduïr codi.\n",
    "\n",
    "\n",
    "extret de https://learn.arcade.academy/en/latest/chapters/09_drawing_with_functions/drawing_with_functions.html"
   ]
  },
  {
   "cell_type": "markdown",
   "metadata": {},
   "source": [
    "A l'unitat anterior hem après a dibuixar amb la llibreria python. Instrucció rera instrucció. En aquesta i als pròxims temes ens dedicarem a reduïr i aclarir codi. \n",
    "\n",
    "Amb el següent codi d'exemple farem tres tasques:\n",
    "\n",
    "1. Crear l'estructura principal de programa. MAIN\n",
    "2. Millorar la lectura del codi. FUNCIONS\n",
    "3. Animar una funció.\n",
    "\n",
    "L'exemple:"
   ]
  },
  {
   "cell_type": "code",
   "execution_count": null,
   "metadata": {},
   "outputs": [],
   "source": [
    "import arcade\n",
    "\n",
    "SCREEN_WIDTH = 800\n",
    "SCREEN_HEIGHT = 600\n",
    "\n",
    "\n",
    "arcade.open_window(SCREEN_WIDTH, SCREEN_HEIGHT, \"Drawing with Functions\")\n",
    "arcade.set_background_color(arcade.color.DARK_BLUE)\n",
    "arcade.start_render()\n",
    "\n",
    "# Draw the ground\n",
    "arcade.draw_lrtb_rectangle_filled(0, SCREEN_WIDTH, SCREEN_HEIGHT / 3, 0, arcade.color.AIR_SUPERIORITY_BLUE)\n",
    "\n",
    "# Draw a snow person\n",
    "\n",
    "# Snow\n",
    "arcade.draw_circle_filled(300, 200, 60, arcade.color.WHITE)\n",
    "arcade.draw_circle_filled(300, 280, 50, arcade.color.WHITE)\n",
    "arcade.draw_circle_filled(300, 340, 40, arcade.color.WHITE)\n",
    "\n",
    "# Eyes\n",
    "arcade.draw_circle_filled(285, 350, 5, arcade.color.BLACK)\n",
    "arcade.draw_circle_filled(315, 350, 5, arcade.color.BLACK)\n",
    "\n",
    "#  Finish and run\n",
    "arcade.finish_render()\n",
    "arcade.run()\n"
   ]
  },
  {
   "cell_type": "markdown",
   "metadata": {},
   "source": [
    "## LA FUNCIÓ PRINCIPAL. MAIN\n",
    "Per tenir el programa ordenat s'usa la funció Main que conté la gestió d'esdeveniments del programa, el control lògic del programa. \n",
    "\n",
    "Despes es decompondrà de forma que el main sigui reduida i concreta que invoqui funcions."
   ]
  },
  {
   "cell_type": "code",
   "execution_count": null,
   "metadata": {},
   "outputs": [],
   "source": [
    "import arcade\n",
    "\n",
    "SCREEN_WIDTH = 800\n",
    "SCREEN_HEIGHT = 600\n",
    "\n",
    "\n",
    "def main():\n",
    "    arcade.open_window(SCREEN_WIDTH, SCREEN_HEIGHT, \"Drawing with Functions\")\n",
    "    arcade.set_background_color(arcade.color.DARK_BLUE)\n",
    "    arcade.start_render()\n",
    "\n",
    "    # Draw the ground\n",
    "    arcade.draw_lrtb_rectangle_filled(0, SCREEN_WIDTH, SCREEN_HEIGHT / 3, 0, arcade.color.AIR_SUPERIORITY_BLUE)\n",
    "\n",
    "    # Draw a snow person\n",
    "\n",
    "    # Snow\n",
    "    arcade.draw_circle_filled(300, 200, 60, arcade.color.WHITE)\n",
    "    arcade.draw_circle_filled(300, 280, 50, arcade.color.WHITE)\n",
    "    arcade.draw_circle_filled(300, 340, 40, arcade.color.WHITE)\n",
    "\n",
    "    # Eyes\n",
    "    arcade.draw_circle_filled(285, 350, 5, arcade.color.BLACK)\n",
    "    arcade.draw_circle_filled(315, 350, 5, arcade.color.BLACK)\n",
    "\n",
    "    # Finish and run\n",
    "    arcade.finish_render()\n",
    "    arcade.run()\n",
    "\n",
    "\n",
    "# Call the main function to get the program started.\n",
    "main()"
   ]
  },
  {
   "cell_type": "markdown",
   "metadata": {},
   "source": [
    "## FUNCIONS DE PROGRAMA\n",
    "\n",
    "Si ens fixam amb el codi i la seva execució, el programa pinta un ninot de neu sobre un fons.\n",
    "\n",
    "Per reduïr codi, podem crear dues funcions:\n",
    "\n",
    "## 1. dibuixaFons. draw_grass()\n"
   ]
  },
  {
   "cell_type": "code",
   "execution_count": null,
   "metadata": {},
   "outputs": [],
   "source": [
    "def draw_grass():\n",
    "    \"\"\" Draw the ground \"\"\"\n",
    "    arcade.draw_lrtb_rectangle_filled(0, SCREEN_WIDTH, SCREEN_HEIGHT / 3, 0, arcade.color.AIR_SUPERIORITY_BLUE)"
   ]
  },
  {
   "cell_type": "markdown",
   "metadata": {},
   "source": [
    "## 2. dibuixaNinot. draw_snow_person(x,y) on x i y són paràmetres de la poscició sobre la finestra."
   ]
  },
  {
   "cell_type": "code",
   "execution_count": null,
   "metadata": {},
   "outputs": [],
   "source": [
    "def draw_snow_person(x, y):\n",
    "    \"\"\" Draw a snow person \"\"\"\n",
    "\n",
    "    # Draw a point at x, y for reference\n",
    "    arcade.draw_point(x, y, arcade.color.RED, 5)\n",
    "\n",
    "    # Snow\n",
    "    arcade.draw_circle_filled(x, 60 + y, 60, arcade.color.WHITE)\n",
    "    arcade.draw_circle_filled(x, 140 + y, 50, arcade.color.WHITE)\n",
    "    arcade.draw_circle_filled(x, 200 + y, 40, arcade.color.WHITE)\n",
    "\n",
    "    # Eyes\n",
    "    arcade.draw_circle_filled(x - 15, 210 + y, 5, arcade.color.BLACK)\n",
    "    arcade.draw_circle_filled(x + 15, 210 + y, 5, arcade.color.BLACK)"
   ]
  },
  {
   "cell_type": "markdown",
   "metadata": {},
   "source": [
    "## 3. La funció main. Estructura lògica del programa."
   ]
  },
  {
   "cell_type": "code",
   "execution_count": null,
   "metadata": {},
   "outputs": [],
   "source": [
    "def main():\n",
    "    arcade.open_window(SCREEN_WIDTH, SCREEN_HEIGHT, \"Drawing with Functions\")\n",
    "    arcade.set_background_color(arcade.color.DARK_BLUE)\n",
    "    arcade.start_render()\n",
    "\n",
    "    draw_grass()\n",
    "    draw_snow_person(150, 140)\n",
    "    draw_snow_person(450, 180)\n",
    "\n",
    "    # Finish and run\n",
    "    arcade.finish_render()\n",
    "    arcade.run()"
   ]
  },
  {
   "cell_type": "markdown",
   "metadata": {},
   "source": [
    "## 4. El programa. És una crida a main."
   ]
  },
  {
   "cell_type": "code",
   "execution_count": null,
   "metadata": {},
   "outputs": [],
   "source": [
    "main()"
   ]
  },
  {
   "cell_type": "markdown",
   "metadata": {},
   "source": [
    "# EL CODI SENCER"
   ]
  },
  {
   "cell_type": "code",
   "execution_count": 3,
   "metadata": {},
   "outputs": [
    {
     "name": "stdout",
     "output_type": "stream",
     "text": [
      "Note: Installing the optional Shapely library will improve performance.\n",
      "      However, Shapely does not run on Python 3.10 for macOS and Windows machines.\n"
     ]
    }
   ],
   "source": [
    "import arcade\n",
    "\n",
    "SCREEN_WIDTH = 800\n",
    "SCREEN_HEIGHT = 600\n",
    "\n",
    "\n",
    "def draw_grass():\n",
    "    \"\"\" Draw the ground \"\"\"\n",
    "    arcade.draw_lrtb_rectangle_filled(0, SCREEN_WIDTH, SCREEN_HEIGHT / 3, 0, arcade.color.AIR_SUPERIORITY_BLUE)\n",
    "\n",
    "\n",
    "def draw_snow_person(x, y):\n",
    "    \"\"\" Draw a snow person \"\"\"\n",
    "\n",
    "    # Draw a point at x, y for reference\n",
    "    arcade.draw_point(x, y, arcade.color.RED, 5)\n",
    "\n",
    "    # Snow\n",
    "    arcade.draw_circle_filled(x, 60 + y, 60, arcade.color.WHITE)\n",
    "    arcade.draw_circle_filled(x, 140 + y, 50, arcade.color.WHITE)\n",
    "    arcade.draw_circle_filled(x, 200 + y, 40, arcade.color.WHITE)\n",
    "\n",
    "    # Eyes\n",
    "    arcade.draw_circle_filled(x - 15, 210 + y, 5, arcade.color.BLACK)\n",
    "    arcade.draw_circle_filled(x + 15, 210 + y, 5, arcade.color.BLACK)\n",
    "\n",
    "\n",
    "def main():\n",
    "    arcade.open_window(SCREEN_WIDTH, SCREEN_HEIGHT, \"Drawing with Functions\")\n",
    "    arcade.set_background_color(arcade.color.DARK_BLUE)\n",
    "    arcade.start_render()\n",
    "\n",
    "    draw_grass()\n",
    "    draw_snow_person(150, 140)\n",
    "    draw_snow_person(450, 180)\n",
    "\n",
    "    # Finish and run\n",
    "    arcade.finish_render()\n",
    "    arcade.run()\n",
    "\n",
    "\n",
    "# Call the main function to get the program started.\n",
    "main()"
   ]
  },
  {
   "cell_type": "markdown",
   "metadata": {},
   "source": [
    "# EXERCICIS\n",
    "\n",
    "1. Fes que desde main es dibuixin 6 ninots en posicions aleatories.\n",
    "2. Crea una funció per dibuixar el fons on es pugui pasar el paràmetre de color.\n",
    "3. Afegeix un paràmetre escala al dibuixa ninot. On 1 es l'escala base.\n"
   ]
  },
  {
   "cell_type": "markdown",
   "metadata": {},
   "source": [
    "# ANIMANT IMATGES. CONTROL DE RENDERITZAT DEL PROGRAMA.\n",
    "\n",
    "Per animar unes imatges:\n",
    "\n",
    "## 1. Cream una funció on_draw.\n",
    "\n",
    "Una funció que digui que ha de pintar cada cicle de programa.\n",
    "\n",
    "Al nostre programa el codi seria com segueix:"
   ]
  },
  {
   "cell_type": "code",
   "execution_count": null,
   "metadata": {},
   "outputs": [],
   "source": [
    "def on_draw(delta_time):\n",
    "    \"\"\" Draw everything \"\"\"\n",
    "    arcade.start_render()\n",
    "\n",
    "    draw_grass()\n",
    "    draw_snow_person(150, 140)\n",
    "    draw_snow_person(450, 180)"
   ]
  },
  {
   "cell_type": "markdown",
   "metadata": {},
   "source": [
    "## 2. AL MAIN CREAM UN CALENDARI D'ESDEVENIMENTS PER ONDRAW."
   ]
  },
  {
   "cell_type": "code",
   "execution_count": null,
   "metadata": {},
   "outputs": [],
   "source": [
    "def main():\n",
    "    arcade.open_window(SCREEN_WIDTH, SCREEN_HEIGHT, \"Drawing with Functions\")\n",
    "    arcade.set_background_color(arcade.color.DARK_BLUE)\n",
    "\n",
    "    # Call on_draw every 60th of a second.\n",
    "    arcade.schedule(on_draw, 1/60)\n",
    "    arcade.run()"
   ]
  },
  {
   "cell_type": "code",
   "execution_count": null,
   "metadata": {},
   "outputs": [],
   "source": []
  }
 ],
 "metadata": {
  "interpreter": {
   "hash": "31f2aee4e71d21fbe5cf8b01ff0e069b9275f58929596ceb00d14d90e3e16cd6"
  },
  "kernelspec": {
   "display_name": "Python 3.8.10 64-bit",
   "name": "python3"
  },
  "language_info": {
   "codemirror_mode": {
    "name": "ipython",
    "version": 3
   },
   "file_extension": ".py",
   "mimetype": "text/x-python",
   "name": "python",
   "nbconvert_exporter": "python",
   "pygments_lexer": "ipython3",
   "version": "3.8.10"
  },
  "orig_nbformat": 4
 },
 "nbformat": 4,
 "nbformat_minor": 2
}
