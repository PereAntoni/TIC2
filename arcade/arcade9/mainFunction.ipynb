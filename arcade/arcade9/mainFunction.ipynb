{
 "cells": [
  {
   "cell_type": "markdown",
   "metadata": {},
   "source": [
    "* PINTANT AMB FUNCIONS. Reduïr codi."
   ]
  },
  {
   "cell_type": "markdown",
   "metadata": {},
   "source": [
    "A l'unitat anterior hem après a dibuixar amb la llibreria python. Instrucció rera instrucció. En aquesta i als pròxims temes ens dedicarem a reduïr i aclarir codi.\n",
    "\n",
    "L'exemple:"
   ]
  },
  {
   "cell_type": "code",
   "execution_count": 1,
   "metadata": {},
   "outputs": [
    {
     "name": "stdout",
     "output_type": "stream",
     "text": [
      "Note: Installing the optional Shapely library will improve performance.\n",
      "      However, Shapely does not run on Python 3.10 for macOS and Windows machines.\n"
     ]
    }
   ],
   "source": [
    "import arcade\n",
    "\n",
    "SCREEN_WIDTH = 800\n",
    "SCREEN_HEIGHT = 600\n",
    "\n",
    "\n",
    "arcade.open_window(SCREEN_WIDTH, SCREEN_HEIGHT, \"Drawing with Functions\")\n",
    "arcade.set_background_color(arcade.color.DARK_BLUE)\n",
    "arcade.start_render()\n",
    "\n",
    "# Draw the ground\n",
    "arcade.draw_lrtb_rectangle_filled(0, SCREEN_WIDTH, SCREEN_HEIGHT / 3, 0, arcade.color.AIR_SUPERIORITY_BLUE)\n",
    "\n",
    "# Draw a snow person\n",
    "\n",
    "# Snow\n",
    "arcade.draw_circle_filled(300, 200, 60, arcade.color.WHITE)\n",
    "arcade.draw_circle_filled(300, 280, 50, arcade.color.WHITE)\n",
    "arcade.draw_circle_filled(300, 340, 40, arcade.color.WHITE)\n",
    "\n",
    "# Eyes\n",
    "arcade.draw_circle_filled(285, 350, 5, arcade.color.BLACK)\n",
    "arcade.draw_circle_filled(315, 350, 5, arcade.color.BLACK)\n",
    "\n",
    "#  Finish and run\n",
    "arcade.finish_render()\n",
    "arcade.run()\n"
   ]
  },
  {
   "cell_type": "markdown",
   "metadata": {},
   "source": [
    "* LA FUNCIÓ PRINCIPAL. MAIN\n",
    "Per tenir el progrma ordenat s'usa la funció Main que conté la gestió d'esdeveniments del programa, el control lògic del programa. L'objectiu és tenir una funció main reduida i concreta que invoqui funcions.\n",
    "\n",
    "La primera tècnica és la d'emprar funcions, cada funció encapçula instruccions que retornaran un resultat."
   ]
  }
 ],
 "metadata": {
  "interpreter": {
   "hash": "31f2aee4e71d21fbe5cf8b01ff0e069b9275f58929596ceb00d14d90e3e16cd6"
  },
  "kernelspec": {
   "display_name": "Python 3.8.10 64-bit",
   "name": "python3"
  },
  "language_info": {
   "codemirror_mode": {
    "name": "ipython",
    "version": 3
   },
   "file_extension": ".py",
   "mimetype": "text/x-python",
   "name": "python",
   "nbconvert_exporter": "python",
   "pygments_lexer": "ipython3",
   "version": "3.8.10"
  },
  "orig_nbformat": 4
 },
 "nbformat": 4,
 "nbformat_minor": 2
}
